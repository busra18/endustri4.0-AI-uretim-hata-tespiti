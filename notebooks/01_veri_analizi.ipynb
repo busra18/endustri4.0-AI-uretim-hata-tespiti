{
 "cells": [
  {
   "cell_type": "code",
   "execution_count": null,
   "id": "4c298c2c",
   "metadata": {
    "vscode": {
     "languageId": "plaintext"
    }
   },
   "outputs": [],
   "source": [
    "#temel kütüphaneler\n",
    "import numpy as np \n",
    "import pandas as pd \n",
    "import matplotlib.pyplot as blt \n",
    "import h5py\n",
    "import os"
   ]
  },
  {
   "cell_type": "code",
   "execution_count": null,
   "id": "47f31a1a",
   "metadata": {
    "vscode": {
     "languageId": "plaintext"
    }
   },
   "outputs": [],
   "source": [
    "#veri yolunun belirlenmesi\n",
    "data_path=\"\""
   ]
  },
  {
   "cell_type": "code",
   "execution_count": null,
   "id": "a680dc30",
   "metadata": {
    "vscode": {
     "languageId": "plaintext"
    }
   },
   "outputs": [],
   "source": [
    "#.h5 dosyası oku\n",
    "with h5py.File(data_path,'r') as f :\n",
    "    print(\"Dosya içindeki anahtarlar:\",list(f.keys()))"
   ]
  },
  {
   "cell_type": "code",
   "execution_count": null,
   "id": "0e7cf0de",
   "metadata": {
    "vscode": {
     "languageId": "plaintext"
    }
   },
   "outputs": [],
   "source": [
    "#görselleştirme\n",
    "plt.figure(figesize=(10,6))\n",
    "plt.title(\"Proje başlığı-Tekstil Hata Tespiti\")\n",
    "plt.plot([1,2,3],[1,4,9])\n",
    "plt.show()"
   ]
  }
 ],
 "metadata": {
  "language_info": {
   "name": "python"
  }
 },
 "nbformat": 4,
 "nbformat_minor": 5
}
